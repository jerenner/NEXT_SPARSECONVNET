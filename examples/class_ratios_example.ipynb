{
 "cells": [
  {
   "cell_type": "code",
   "execution_count": 1,
   "metadata": {},
   "outputs": [],
   "source": [
    "import numpy as np\n",
    "import pandas as pd\n",
    "import tables as tb\n",
    "import sys\n",
    "eps = sys.float_info.epsilon"
   ]
  },
  {
   "cell_type": "code",
   "execution_count": 2,
   "metadata": {},
   "outputs": [],
   "source": [
    "def read_event(fname, datid, table='Voxels', group='DATASET'):\n",
    "    with tb.open_file(fname) as h5in:\n",
    "        return pd.DataFrame.from_records(h5in.root[group][table].read_where('dataset_id==datid'))"
   ]
  },
  {
   "cell_type": "code",
   "execution_count": 5,
   "metadata": {},
   "outputs": [],
   "source": [
    "dataset_path = '/home/mmkekic/MC_dataset/new_data/train_dataset_5mm_all.h5'"
   ]
  },
  {
   "cell_type": "code",
   "execution_count": 6,
   "metadata": {},
   "outputs": [],
   "source": [
    "dataset_id = 24730\n",
    "event = read_event(dataset_path, dataset_id, table='Voxels')\n"
   ]
  },
  {
   "cell_type": "code",
   "execution_count": 7,
   "metadata": {},
   "outputs": [],
   "source": [
    "def class_ratios(event_id, data_path):\n",
    "    event = read_event(data_path, event_id, table='Voxels')\n",
    "    count = np.bincount(event['segclass'], minlength = 3)\n",
    "    inv = 1./(count + eps) #in case some class has 0 counts\n",
    "    return inv/sum(inv)"
   ]
  },
  {
   "cell_type": "code",
   "execution_count": 16,
   "metadata": {
    "scrolled": true
   },
   "outputs": [
    {
     "name": "stdout",
     "output_type": "stream",
     "text": [
      "Mean: [0.39100247 0.05181371 0.55718382]\n"
     ]
    }
   ],
   "source": [
    "n = 1000\n",
    "mean = np.zeros(3)\n",
    "\n",
    "for i in range(n):\n",
    "    #ev_id = np.random.randint(60000)\n",
    "    ratio = class_ratios(i, dataset_path)\n",
    "    mean += ratio\n",
    "print('Mean:', mean/n)"
   ]
  },
  {
   "cell_type": "markdown",
   "metadata": {},
   "source": [
    "Para 5mm:\n",
    "    \n",
    "[0.38890177 0.05312072 0.5579775 ] (1000 ev)\n",
    "\n",
    "[0.38925264 0.05114205 0.55960531] (5000 ev)\n",
    "\n",
    "[0.39121372 0.05125287 0.55753341] (10000 ev)\n",
    "\n",
    "[0.39100247 0.05181371 0.55718382] (50000 ev)"
   ]
  },
  {
   "cell_type": "markdown",
   "metadata": {},
   "source": [
    "Para 1mm:\n",
    "\n",
    "[0.54925774 0.06549303 0.44924923]\n",
    "\n",
    "[0.54041125 0.06872425 0.4628645 ]\n",
    "\n",
    "[0.52914039 0.06320249 0.46365712]\n",
    "\n",
    "[0.53607411 0.06864869 0.4632772 ]"
   ]
  },
  {
   "cell_type": "code",
   "execution_count": null,
   "metadata": {},
   "outputs": [],
   "source": []
  }
 ],
 "metadata": {
  "kernelspec": {
   "display_name": "Python 3",
   "language": "python",
   "name": "python3"
  },
  "language_info": {
   "codemirror_mode": {
    "name": "ipython",
    "version": 3
   },
   "file_extension": ".py",
   "mimetype": "text/x-python",
   "name": "python",
   "nbconvert_exporter": "python",
   "pygments_lexer": "ipython3",
   "version": "3.7.9"
  }
 },
 "nbformat": 4,
 "nbformat_minor": 4
}
