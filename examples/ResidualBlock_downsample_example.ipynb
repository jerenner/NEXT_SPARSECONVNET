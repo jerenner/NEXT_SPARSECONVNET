{
 "cells": [
  {
   "cell_type": "code",
   "execution_count": 1,
   "metadata": {},
   "outputs": [],
   "source": [
    "import torch\n",
    "import sparseconvnet as scn\n",
    "import tables as tb\n",
    "import pandas as pd\n",
    "import re\n",
    "import numpy as np"
   ]
  },
  {
   "cell_type": "code",
   "execution_count": 2,
   "metadata": {},
   "outputs": [],
   "source": [
    "from next_sparseconvnet.utils.data_loaders import DataGen, collatefn, LabelType"
   ]
  },
  {
   "cell_type": "code",
   "execution_count": 3,
   "metadata": {},
   "outputs": [],
   "source": [
    "dataset_path = '/home/mperez/NEXT_SPARSECONVNET/next_sparseconvnet/test_files/MC_dataset.h5'"
   ]
  },
  {
   "cell_type": "code",
   "execution_count": 4,
   "metadata": {},
   "outputs": [],
   "source": [
    "datagen = DataGen(dataset_path, LabelType.Segmentation)"
   ]
  },
  {
   "cell_type": "code",
   "execution_count": 5,
   "metadata": {},
   "outputs": [],
   "source": [
    "with datagen:\n",
    "    batch = [datagen[i] for i in range(3)]\n",
    "coord, ener, lab, ev = collatefn(batch)"
   ]
  },
  {
   "cell_type": "code",
   "execution_count": 6,
   "metadata": {},
   "outputs": [],
   "source": [
    "coord, ener, lab, ev = collatefn(batch)"
   ]
  },
  {
   "cell_type": "code",
   "execution_count": 7,
   "metadata": {},
   "outputs": [],
   "source": [
    "dim = len(coord[0]) - 1"
   ]
  },
  {
   "cell_type": "markdown",
   "metadata": {},
   "source": [
    "Pruebo la estructura del bloque residual con datos a ver que tal"
   ]
  },
  {
   "cell_type": "code",
   "execution_count": 10,
   "metadata": {},
   "outputs": [
    {
     "name": "stdout",
     "output_type": "stream",
     "text": [
      "tensor([50, 50, 50]) torch.Size([333, 1])\n",
      "tensor([50, 50, 50]) 1\n",
      "tensor([25, 25, 25]) 2\n",
      "tensor([25, 25, 25]) 2\n",
      "tensor([25, 25, 25]) 2\n",
      "tensor([25, 25, 25]) 2\n",
      "tensor([25, 25, 25]) 2\n"
     ]
    }
   ],
   "source": [
    "inp     = scn.InputLayer(dim, (50, 50, 50)) #dimension is 3 (3d) and spatial_size must be greater than max(binsZ)/len(binsZ) = 550/11 = 50\n",
    "bnr1    = scn.BatchNormReLU(1) #nPlanes = 1 = inplanes\n",
    "conv1   = scn.Convolution(dim, 1, 2, 2, 2, False) #dim, nIn = inplanes, nOut = 2*inplanes, ker, str, bias\n",
    "bnr2    = scn.BatchNormReLU(2) #tras lo anterior, nPlanes supuestamente se duplicó de 1 a 2\n",
    "subconv = scn.SubmanifoldConvolution(dim, 2, 2, 2, False) #dim, nIn = 2*inplanes, nOut = 2*inplanes(aqui creo que no cambio N), ker, bias, groups\n",
    "\n",
    "conv2   = scn.Convolution(dim, 1, 2, 2, 2, False)\n",
    "\n",
    "add     = scn.AddTable()\n",
    "\n",
    "x = inp((coord, ener))\n",
    "print(x.spatial_size, x.features.shape)\n",
    "x = bnr1(x)\n",
    "print(x.spatial_size, x.features.shape[1])\n",
    "\n",
    "\n",
    "#f1\n",
    "y1 = conv1(x)\n",
    "print(y1.spatial_size, y1.features.shape[1])\n",
    "y1 = bnr2(y1)\n",
    "print(y1.spatial_size, y1.features.shape[1])\n",
    "y1 = subconv(y1)\n",
    "print(y1.spatial_size, y1.features.shape[1])\n",
    "\n",
    "#f2\n",
    "y2 = conv2(x)\n",
    "print(y2.spatial_size, y2.features.shape[1])\n",
    "\n",
    "\n",
    "#sum\n",
    "out = add([y1, y2])\n",
    "print(y2.spatial_size, y2.features.shape[1])\n",
    "\n",
    "#print(out)"
   ]
  },
  {
   "cell_type": "code",
   "execution_count": 20,
   "metadata": {},
   "outputs": [],
   "source": [
    "class ResidualBlock_downsample(torch.nn.Module):\n",
    "    def __init__(self, inplanes, kernel, stride, bias = False, dim = 3):\n",
    "        torch.nn.Module.__init__(self)\n",
    "        \n",
    "        #f1\n",
    "        self.bnr1    = scn.BatchNormReLU(inplanes) \n",
    "        self.conv1   = scn.Convolution(dim, inplanes, 2 * inplanes, kernel, stride, bias)\n",
    "        self.bnr2    = scn.BatchNormReLU(2 * inplanes) \n",
    "        self.subconv = scn.SubmanifoldConvolution(dim, 2 * inplanes, 2 * inplanes, kernel, bias)\n",
    "        \n",
    "        #f2\n",
    "        self.conv2   = scn.Convolution(dim, inplanes, 2 * inplanes, kernel, stride, bias) \n",
    "        \n",
    "        self.add     = scn.AddTable()\n",
    "        \n",
    "    def forward(self, x):  \n",
    "        x = self.bnr1(x)\n",
    "        \n",
    "        #f1\n",
    "        y1 = self.conv1(x)\n",
    "        y1 = self.bnr2(y1)\n",
    "        y1 = self.subconv(y1)\n",
    "        \n",
    "        #f2\n",
    "        y2 = self.conv2(x)\n",
    "        \n",
    "        #sum\n",
    "        out = self.add([y1, y2])\n",
    "        \n",
    "        return out"
   ]
  },
  {
   "cell_type": "code",
   "execution_count": 21,
   "metadata": {},
   "outputs": [],
   "source": [
    "block = ResidualBlock_downsample(1, 2, 2, False) #pruebo con kernel = 2 porque para mi spatial_size = (50, 50, 50) con 3 da error, supongo que tendría que poner un spatial size por ejemplo de (51, 51, 51) ya que el mínimo es 50"
   ]
  },
  {
   "cell_type": "code",
   "execution_count": 15,
   "metadata": {},
   "outputs": [],
   "source": [
    "out = block.forward(x)"
   ]
  },
  {
   "cell_type": "code",
   "execution_count": 19,
   "metadata": {},
   "outputs": [
    {
     "name": "stdout",
     "output_type": "stream",
     "text": [
      "torch.Size([17, 2])\n"
     ]
    }
   ],
   "source": [
    "print(out.features.shape)"
   ]
  },
  {
   "cell_type": "code",
   "execution_count": 9,
   "metadata": {},
   "outputs": [],
   "source": [
    "from next_sparseconvnet.networks.building_blocks import *"
   ]
  },
  {
   "cell_type": "code",
   "execution_count": null,
   "metadata": {},
   "outputs": [],
   "source": []
  },
  {
   "cell_type": "code",
   "execution_count": null,
   "metadata": {},
   "outputs": [],
   "source": []
  },
  {
   "cell_type": "code",
   "execution_count": null,
   "metadata": {},
   "outputs": [],
   "source": []
  },
  {
   "cell_type": "code",
   "execution_count": null,
   "metadata": {},
   "outputs": [],
   "source": []
  },
  {
   "cell_type": "code",
   "execution_count": null,
   "metadata": {},
   "outputs": [],
   "source": []
  },
  {
   "cell_type": "code",
   "execution_count": null,
   "metadata": {},
   "outputs": [],
   "source": [
    "\n"
   ]
  }
 ],
 "metadata": {
  "kernelspec": {
   "display_name": "Python 3",
   "language": "python",
   "name": "python3"
  },
  "language_info": {
   "codemirror_mode": {
    "name": "ipython",
    "version": 3
   },
   "file_extension": ".py",
   "mimetype": "text/x-python",
   "name": "python",
   "nbconvert_exporter": "python",
   "pygments_lexer": "ipython3",
   "version": "3.7.9"
  }
 },
 "nbformat": 4,
 "nbformat_minor": 4
}
